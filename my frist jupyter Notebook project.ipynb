{
 "cells": [
  {
   "cell_type": "markdown",
   "metadata": {},
   "source": [
    "#   Exploring Data with Python"
   ]
  },
  {
   "cell_type": "markdown",
   "metadata": {
    "vscode": {
     "languageId": "plaintext"
    }
   },
   "source": [
    "## In this Notebook we see a short view of Exploring Data with Python"
   ]
  },
  {
   "cell_type": "markdown",
   "metadata": {
    "vscode": {
     "languageId": "plaintext"
    }
   },
   "source": [
    "## Introduction\n",
    "\n",
    "In this section, we will list some of the most widely used programming languages in data science:\n",
    "\n",
    "1. Python\n",
    "2. R\n",
    "3. SQL\n",
    "4. Julia\n",
    "5. Scala\n",
    "6. Java\n",
    "7. MATLAB\n"
   ]
  },
  {
   "cell_type": "markdown",
   "metadata": {},
   "source": [
    "## Introduction to Data Science Libraries\n",
    "\n",
    "\n",
    "1. pandas\n",
    "2. NumPy \n",
    "3. Matplotlib\n",
    "4. Seabor   \n",
    "5. SciPy\n",
    "6. scikitng\n",
    "7. TensorFlow \n",
    "8. Keras\n"
   ]
  },
  {
   "cell_type": "markdown",
   "metadata": {},
   "source": [
    "## Data Science Tools\n",
    "\n",
    "The table below lists some popular tools used in Data Science along with their primary functions:\n",
    "\n",
    "| Tool           | Description                                                                 |\n",
    "|----------------|-----------------------------------------------------------------------------|\n",
    "| **Jupyter**    | An open-source web application for creating and sharing documents containing live code, equations, visualizations, and narrative text. |\n",
    "| **RStudio**    | An integrated development environment (IDE) for R that provides tools for data analysis, statistical modeling, and data visualization. |\n",
    "| **Apache Spark** | A unified analytics engine for large-scale data processing, known for its speed and ease of use in big data applications. |\n",
    "| **TensorFlow** | An open-source library developed by Google for deep learning and machine learning applications. |\n",
    "| **Tableau**    | A powerful data visualization tool that helps in creating interactive and shareable dashboards. |\n",
    "| **Power BI**   | A business analytics service by Microsoft that provides interactive visualizations and business intelligence capabilities. |\n",
    "| **Git**        | A version control system that helps in tracking changes in source code during software development. |\n"
   ]
  },
  {
   "cell_type": "markdown",
   "metadata": {},
   "source": [
    "## Arithmetic Expression Examples\n",
    "\n",
    "Arithmetic expressions are fundamental in programming and data analysis, allowing us to perform basic mathematical operations. Below are a few examples of common arithmetic expressions:\n",
    "\n",
    "- **Addition**: `3 + 2` results in `5`\n",
    "- **Subtraction**: `7 - 4` results in `3`\n",
    "- **Multiplication**: `5 * 6` results in `30`\n",
    "- **Division**: `8 / 2` results in `4`\n",
    "- **Exponentiation**: `2 ** 3` results in `8`\n",
    "- **Modulus**: `10 % 3` results in `1`\n"
   ]
  },
  {
   "cell_type": "markdown",
   "metadata": {},
   "source": [
    "# Code to multiply and add numbers\n"
   ]
  },
  {
   "cell_type": "code",
   "execution_count": 13,
   "metadata": {},
   "outputs": [
    {
     "name": "stdout",
     "output_type": "stream",
     "text": [
      "The sum of 8 and 7 is: 15\n",
      "The product of 8 and 7 is: 56\n"
     ]
    }
   ],
   "source": [
    " \n",
    "a = 8\n",
    "b = 7\n",
    "sum_result = a + b\n",
    "product_result = a * b\n",
    "print(\"The sum of\", a, \"and\", b, \"is:\", sum_result)\n",
    "print(\"The product of\", a, \"and\", b, \"is:\", product_result)"
   ]
  },
  {
   "cell_type": "markdown",
   "metadata": {},
   "source": [
    "# Code to convert minutes to hours"
   ]
  },
  {
   "cell_type": "markdown",
   "metadata": {},
   "source": []
  },
  {
   "cell_type": "code",
   "execution_count": 14,
   "metadata": {},
   "outputs": [
    {
     "name": "stdout",
     "output_type": "stream",
     "text": [
      "150 minutes is equal to 2.5 hours\n"
     ]
    }
   ],
   "source": [
    "minutes = 150\n",
    "hours = minutes / 60\n",
    "print(minutes, \"minutes is equal to\", hours, \"hours\")"
   ]
  },
  {
   "cell_type": "markdown",
   "metadata": {},
   "source": [
    "## Key Concepts in Data Science\n",
    "\n",
    "Data science encompasses a wide range of concepts and techniques. Below are some key concepts that are essential to understanding the field:\n",
    "\n",
    "- **Data Cleaning**: The process of detecting and correcting (or removing) errors and inconsistencies in data to improve its quality.\n",
    "- **Exploratory Data Analysis (EDA)**: Techniques used to analyze datasets to summarize their main characteristics, often using visual methods.\n",
    "- **Machine Learning**: A subset of artificial intelligence that involves training algorithms to make predictions or decisions without being explicitly programmed.\n",
    "- **Data Visualization**: The graphical representation of data to help communicate insights and patterns clearly.\n",
    "- **Big Data**: Large, complex datasets that require advanced tools and techniques for storage, processing, and analysis.\n"
   ]
  },
  {
   "cell_type": "markdown",
   "metadata": {},
   "source": [
    "## Author\n",
    "\n",
    "**John Doe**\n"
   ]
  }
 ],
 "metadata": {
  "kernelspec": {
   "display_name": "base",
   "language": "python",
   "name": "python3"
  },
  "language_info": {
   "codemirror_mode": {
    "name": "ipython",
    "version": 3
   },
   "file_extension": ".py",
   "mimetype": "text/x-python",
   "name": "python",
   "nbconvert_exporter": "python",
   "pygments_lexer": "ipython3",
   "version": "3.12.4"
  }
 },
 "nbformat": 4,
 "nbformat_minor": 2
}
